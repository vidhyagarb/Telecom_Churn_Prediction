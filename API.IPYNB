{
 "cells": [
  {
   "cell_type": "code",
   "execution_count": 2,
   "metadata": {},
   "outputs": [
    {
     "name": "stdout",
     "output_type": "stream",
     "text": [
      "{\"model\":\"llama3.2:1b\",\"created_at\":\"2024-11-10T11:00:55.323667Z\",\"message\":{\"role\":\"assistant\",\"content\":\"Python OOP (Object-Oriented Programming) is a programming paradigm that revolves around the concepts of objects and classes. It's designed to model real-world objects and their interactions using algorithms, making it easier to write reusable and maintainable code.\\n\\n**Key Concepts:**\\n\\n### 1. Classes:\\n\\nA class in Python is essentially a blueprint or a template for creating objects. It defines the properties (data) and methods (functions) that an object can have.\\n\\n```python\\nclass Car:\\n    def __init__(self, make, model, year):\\n        self.make = make\\n        self.model = model\\n        self.year = year\\n\\n    def description(self):\\n        return f\\\"This is a {self.year} {self.make} {self.model}.\\\"\\n\\nmy_car = Car(\\\"Toyota\\\", \\\"Corolla\\\", 2020)\\nprint(my_car.description())\\n```\\n\\n### 2. Objects:\\n\\nAn object in Python is an instance of a class. It has its own set of attributes (data) and methods that can be used to interact with it.\\n\\n```python\\nclass Person:\\n    def __init__(self, name, age):\\n        self.name = name\\n        self.age = age\\n\\n    def greet(self):\\n        return f\\\"Hello, my name is {self.name} and I'm {self.age} years old.\\\"\\n\\njohn = Person(\\\"John\\\", 30)\\nprint(john.greet())\\n```\\n\\n### 3. Attributes:\\n\\nAttributes in Python are the data members of a class or object. They can be defined inside a class definition using the `__init__` method.\\n\\n```python\\nclass Person:\\n    def __init__(self, name, age):\\n        self.name = name\\n        self.age = age\\n\\nperson = Person(\\\"John\\\", 30)\\nprint(person.name)  # Output: John\\n```\\n\\n### 4. Methods:\\n\\nMethods in Python are functions that belong to a class or object. They can be defined inside a class definition using the `def` keyword.\\n\\n```python\\nclass Car:\\n    def __init__(self, make, model, year):\\n        self.make = make\\n        self.model = model\\n        self.year = year\\n\\n    def description(self):\\n        return f\\\"This is a {self.year} {self.make} {self.model}.\\\"\\n\\n    def honk(self):\\n        print(\\\"HONK!\\\")\\n\\nmy_car = Car(\\\"Toyota\\\", \\\"Corolla\\\", 2020)\\nprint(my_car.description())\\nmy_car.honk()\\n```\\n\\n### Inheritance:\\n\\nInheritance in Python allows one class to inherit the properties and methods of another class. This is achieved using the `class` keyword followed by the name of the parent class.\\n\\n```python\\nclass Animal:\\n    def __init__(self, name):\\n        self.name = name\\n\\n    def sound(self):\\n        print(\\\"The animal makes a sound.\\\")\\n\\nclass Dog(Animal):\\n    def __init__(self, name, breed):\\n        super().__init__(name)\\n        self.breed = breed\\n\\nmy_dog = Dog(\\\"Fido\\\", \\\"Golden Retriever\\\")\\nprint(my_dog.name)  # Output: Fido\\nmy_dog.sound()  # Output: The dog makes a sound.\\n```\\n\\n### Polymorphism:\\n\\nPolymorphism in Python is the ability of an object to take on multiple forms. This can be achieved using method overriding or method overloading.\\n\\n```python\\nclass Shape:\\n    def area(self):\\n        pass\\n\\nclass Circle(Shape):\\n    def __init__(self, radius):\\n        self.radius = radius\\n\\n    def area(self):\\n        return 3.14 * (self.radius ** 2)\\n\\nclass Rectangle(Shape):\\n    def __init__(self, width, height):\\n        self.width = width\\n        self.height = height\\n\\n    def area(self):\\n        return self.width * self.height\\n\\nshapes = [Circle(5), Rectangle(4, 6)]\\n\\nfor shape in shapes:\\n    print(shape.area())\\n```\\n\\n### Encapsulation:\\n\\nEncapsulation is the concept of hiding the implementation details of an object from the outside world. This can be achieved using classes and methods that encapsulate data and behavior.\\n\\n```python\\nclass BankAccount:\\n    def __init__(self, balance):\\n        self.__balance = balance\\n\\n    def deposit(self, amount):\\n        if amount \\u003e 0:\\n            self.__balance += amount\\n        else:\\n            print(\\\"Invalid deposit amount.\\\")\\n\\n    def get_balance(self):\\n        return self.__balance\\n\\naccount = BankAccount(100)\\nprint(account.get_balance())  # Output: 100\\naccount.deposit(50)\\nprint(account.get_balance())  # Output: 150\\n```\\n\\n### Abstraction:\\n\\nAbstraction is the concept of exposing only the necessary information to the outside world while hiding the internal implementation details. This can be achieved using classes and methods that abstract away complex behaviors.\\n\\n```python\\nclass Car:\\n    def __init__(self, make, model):\\n        self.__make = make\\n        self.__model = model\\n\\n    @property\\n    def make(self):\\n        return self.__make\\n\\n    @make.setter\\n    def make(self, value):\\n        if not isinstance(value, str) or len(value) != 3:\\n            raise ValueError(\\\"Invalid make name.\\\")\\n        self.__make = value\\n\\n    def description(self):\\n        return f\\\"{self.make} {self.model}\\\"\\n\\nmy_car = Car(\\\"Toyota\\\", \\\"Corolla\\\")\\nprint(my_car.description())  # Output: Toyota Corolla\\n```\\n\\nThis is a basic overview of the Python OOP concept. There are many more concepts and techniques that can be used to make object-oriented programming in Python more effective.\"},\"done_reason\":\"stop\",\"done\":true,\"total_duration\":39667230000,\"load_duration\":581998500,\"prompt_eval_count\":30,\"prompt_eval_duration\":2244000000,\"eval_count\":1160,\"eval_duration\":36838000000}\n"
     ]
    }
   ],
   "source": [
    "import requests\n",
    "import json\n",
    "\n",
    "url = \"http://localhost:11434/api/chat\"\n",
    "\n",
    "payload = json.dumps({\n",
    "  \"model\": \"llama3.2:1b\",\n",
    "  \"messages\": [\n",
    "    {\n",
    "      \"role\": \"user\",\n",
    "      \"content\": \"explain python oops concept\"\n",
    "    }\n",
    "  ],\n",
    "  \"stream\": False\n",
    "})\n",
    "headers = {\n",
    "  'Content-Type': 'application/json'\n",
    "}\n",
    "\n",
    "response = requests.request(\"POST\", url, headers=headers, data=payload)\n",
    "\n",
    "print(response.text)"
   ]
  },
  {
   "cell_type": "code",
   "execution_count": 3,
   "metadata": {},
   "outputs": [
    {
     "name": "stdout",
     "output_type": "stream",
     "text": [
      "{\"model\":\"llama3.2:1b\",\"created_at\":\"2024-11-10T11:16:47.040442Z\",\"message\":{\"role\":\"assistant\",\"content\":\"Python Object-Oriented Programming (OOP) is a programming paradigm that revolves around the concept of objects and classes. Here's an overview:\\n\\n**Key Concepts:**\\n\\n1. **Classes**: A class is a blueprint or template for creating objects. It defines the properties and methods of an object.\\n2. **Objects**: An object is an instance of a class, created by assigning values to its attributes (data) and calling its methods.\\n3. **Attributes** (or Data Members): The data that an object holds, such as numbers, strings, or other objects.\\n4. **Methods** (or Functions): The actions that can be performed on an object, such as calculations, input/output operations, or state changes.\\n\\n**OOP Concepts:**\\n\\n1. **Inheritance**: A class can inherit the properties and methods of another class, creating a hierarchy of classes. This allows for code reuse and specialization.\\n2. **Polymorphism**: An object can take on multiple forms, depending on the context in which it is used. This is achieved through method overriding or method overloading.\\n3. **Encapsulation**: The data and behavior of an object are hidden from the outside world, encapsulated within the class.\\n4. **Abstraction**: A class provides a simplified view of its own internal structure and behavior, hiding complexity.\\n\\n**Class Structure:**\\n\\nA Python class typically consists of:\\n\\n1. `__init__`: The constructor method that initializes an object when it is created.\\n2. Attributes (data members): These are the variables that hold the state of the object.\\n3. Methods (functions): These are the actions that can be performed on the object.\\n\\n**Example Code:**\\n```python\\nclass Car:\\n    def __init__(self, brand, model, year):\\n        self.brand = brand\\n        self.model = model\\n        self.year = year\\n\\n    def honk(self):\\n        print(\\\"Honk!\\\")\\n\\nmy_car = Car(\\\"Toyota\\\", \\\"Corolla\\\", 2015)\\nprint(my_car.brand)  # Output: Toyota\\nmy_car.honk()       # Output: Honk!\\n```\\nIn this example, the `Car` class is defined with an `__init__` method that initializes its attributes and a `honk` method. The `brand`, `model`, and `year` attributes are instance variables (data members) of the object.\\n\\n**Real-World Applications:**\\n\\nOOP concepts are widely used in various fields, including:\\n\\n1. Web Development: Creating web applications with classes for models, views, and controllers.\\n2. Game Development: Representing game objects and behaviors using OOP principles.\\n3. Database Management Systems: Modeling data structures and relationships using classes.\\n\\nBy understanding Python OOP concepts, developers can create more robust, maintainable, and efficient software systems.\"},\"done_reason\":\"stop\",\"done\":true,\"total_duration\":20256565041,\"load_duration\":833401041,\"prompt_eval_count\":30,\"prompt_eval_duration\":2094000000,\"eval_count\":576,\"eval_duration\":17323000000}\n"
     ]
    }
   ],
   "source": [
    "import requests\n",
    "import json\n",
    "\n",
    "url = \"http://localhost:11434/api/chat\"\n",
    "\n",
    "payload = json.dumps({\n",
    "  \"model\": \"llama3.2:1b\",\n",
    "  \"messages\": [\n",
    "    {\n",
    "      \"role\": \"user\",\n",
    "      \"content\": \"explain python oops concept\"\n",
    "    }\n",
    "  ],\n",
    "  \"stream\": False\n",
    "})\n",
    "headers = {\n",
    "  'Content-Type': 'application/json'\n",
    "}\n",
    "\n",
    "response = requests.request(\"POST\", url, headers=headers, data=payload)\n",
    "\n",
    "print(response.text)\n"
   ]
  },
  {
   "cell_type": "code",
   "execution_count": 5,
   "metadata": {},
   "outputs": [
    {
     "ename": "NameError",
     "evalue": "name 'get' is not defined",
     "output_type": "error",
     "traceback": [
      "\u001b[0;31m---------------------------------------------------------------------------\u001b[0m",
      "\u001b[0;31mNameError\u001b[0m                                 Traceback (most recent call last)",
      "Cell \u001b[0;32mIn[5], line 1\u001b[0m\n\u001b[0;32m----> 1\u001b[0m \u001b[43mget\u001b[49m(\u001b[38;5;124m'\u001b[39m\u001b[38;5;124mmessage\u001b[39m\u001b[38;5;124m'\u001b[39m)\u001b[38;5;241m.\u001b[39mget(\u001b[38;5;124m'\u001b[39m\u001b[38;5;124mcontent\u001b[39m\u001b[38;5;124m'\u001b[39m)\n",
      "\u001b[0;31mNameError\u001b[0m: name 'get' is not defined"
     ]
    }
   ],
   "source": [
    "\n",
    "#output.get('message').get('content')"
   ]
  },
  {
   "cell_type": "code",
   "execution_count": 6,
   "metadata": {},
   "outputs": [],
   "source": [
    "output = response.json()"
   ]
  },
  {
   "cell_type": "code",
   "execution_count": 7,
   "metadata": {},
   "outputs": [
    {
     "data": {
      "text/plain": [
       "'Python Object-Oriented Programming (OOP) is a programming paradigm that revolves around the concept of objects and classes. Here\\'s an overview:\\n\\n**Key Concepts:**\\n\\n1. **Classes**: A class is a blueprint or template for creating objects. It defines the properties and methods of an object.\\n2. **Objects**: An object is an instance of a class, created by assigning values to its attributes (data) and calling its methods.\\n3. **Attributes** (or Data Members): The data that an object holds, such as numbers, strings, or other objects.\\n4. **Methods** (or Functions): The actions that can be performed on an object, such as calculations, input/output operations, or state changes.\\n\\n**OOP Concepts:**\\n\\n1. **Inheritance**: A class can inherit the properties and methods of another class, creating a hierarchy of classes. This allows for code reuse and specialization.\\n2. **Polymorphism**: An object can take on multiple forms, depending on the context in which it is used. This is achieved through method overriding or method overloading.\\n3. **Encapsulation**: The data and behavior of an object are hidden from the outside world, encapsulated within the class.\\n4. **Abstraction**: A class provides a simplified view of its own internal structure and behavior, hiding complexity.\\n\\n**Class Structure:**\\n\\nA Python class typically consists of:\\n\\n1. `__init__`: The constructor method that initializes an object when it is created.\\n2. Attributes (data members): These are the variables that hold the state of the object.\\n3. Methods (functions): These are the actions that can be performed on the object.\\n\\n**Example Code:**\\n```python\\nclass Car:\\n    def __init__(self, brand, model, year):\\n        self.brand = brand\\n        self.model = model\\n        self.year = year\\n\\n    def honk(self):\\n        print(\"Honk!\")\\n\\nmy_car = Car(\"Toyota\", \"Corolla\", 2015)\\nprint(my_car.brand)  # Output: Toyota\\nmy_car.honk()       # Output: Honk!\\n```\\nIn this example, the `Car` class is defined with an `__init__` method that initializes its attributes and a `honk` method. The `brand`, `model`, and `year` attributes are instance variables (data members) of the object.\\n\\n**Real-World Applications:**\\n\\nOOP concepts are widely used in various fields, including:\\n\\n1. Web Development: Creating web applications with classes for models, views, and controllers.\\n2. Game Development: Representing game objects and behaviors using OOP principles.\\n3. Database Management Systems: Modeling data structures and relationships using classes.\\n\\nBy understanding Python OOP concepts, developers can create more robust, maintainable, and efficient software systems.'"
      ]
     },
     "execution_count": 7,
     "metadata": {},
     "output_type": "execute_result"
    }
   ],
   "source": [
    "\n",
    "output.get('message').get('content')"
   ]
  },
  {
   "cell_type": "code",
   "execution_count": 9,
   "metadata": {},
   "outputs": [
    {
     "ename": "IndentationError",
     "evalue": "expected an indented block after function definition on line 4 (3534725988.py, line 6)",
     "output_type": "error",
     "traceback": [
      "\u001b[0;36m  Cell \u001b[0;32mIn[10], line 6\u001b[0;36m\u001b[0m\n\u001b[0;31m    'url' = \"http://localhost:11434/api/chat\"\u001b[0m\n\u001b[0m    ^\u001b[0m\n\u001b[0;31mIndentationError\u001b[0m\u001b[0;31m:\u001b[0m expected an indented block after function definition on line 4\n"
     ]
    }
   ],
   "source": [
    "import requests\n",
    "import json\n",
    "\n",
    "def get_response(query):\n",
    "\n",
    "url = \"http://localhost:11434/api/chat\"\n",
    "\n",
    "payload = json.dumps({\n",
    "  \"model\": \"llama3.2:1b\",\n",
    "  \"messages\": [\n",
    "    {\n",
    "      \"role\": \"user\",\n",
    "      \"content\": query\n",
    "    }\n",
    "  ],\n",
    "  \"stream\": False\n",
    "})\n",
    "headers = {\n",
    "  'Content-Type': 'application/json'\n",
    "}\n",
    "\n",
    "response = requests.request(\"POST\", url, headers=headers, data=payload)\n",
    "output = response.json()\n",
    "return output.get('message').get('content')\n",
    "\n"
   ]
  },
  {
   "cell_type": "code",
   "execution_count": null,
   "metadata": {},
   "outputs": [],
   "source": []
  }
 ],
 "metadata": {
  "kernelspec": {
   "display_name": "ds_project_2",
   "language": "python",
   "name": "python3"
  },
  "language_info": {
   "codemirror_mode": {
    "name": "ipython",
    "version": 3
   },
   "file_extension": ".py",
   "mimetype": "text/x-python",
   "name": "python",
   "nbconvert_exporter": "python",
   "pygments_lexer": "ipython3",
   "version": "3.11.10"
  }
 },
 "nbformat": 4,
 "nbformat_minor": 2
}
